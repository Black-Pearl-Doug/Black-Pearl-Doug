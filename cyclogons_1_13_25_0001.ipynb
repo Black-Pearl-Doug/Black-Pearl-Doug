{
  "nbformat": 4,
  "nbformat_minor": 0,
  "metadata": {
    "colab": {
      "provenance": [],
      "authorship_tag": "ABX9TyNLlJYGqSjhEkE0DNSIA56T"
    },
    "kernelspec": {
      "name": "python3",
      "display_name": "Python 3"
    },
    "language_info": {
      "name": "python"
    }
  },
  "cells": [
    {
      "cell_type": "code",
      "source": [],
      "metadata": {
        "id": "QW8i5nOK0QpH"
      },
      "execution_count": null,
      "outputs": []
    },
    {
      "cell_type": "code",
      "source": [
        "import matplotlib.pyplot as plt\n",
        "import numpy as np\n",
        "from matplotlib.patches import RegularPolygon\n",
        "\n",
        "# --- Ship Definitions ---\n",
        "black_pearl_pos = [0, 0]  # Initial position of the Black Pearl\n",
        "flying_dutchman_pos = [5, 0]  # Initial position of the Flying Dutchman\n",
        "\n",
        "# --- Plotting Setup ---\n",
        "fig, ax = plt.subplots()\n",
        "ax.set_xlim(-10, 10)  # Adjust x-axis limits as needed\n",
        "ax.set_ylim(-5, 5)   # Adjust y-axis limits as needed\n",
        "ax.set_aspect('equal')  # Ensure ships appear with correct proportions\n",
        "\n",
        "# --- Ship Representations ---\n",
        "black_pearl = RegularPolygon(black_pearl_pos, 11, 0.5, fc='gray', label=\"Black Pearl\")\n",
        "flying_dutchman = RegularPolygon(flying_dutchman_pos, 7, 1, fc='black', alpha=0.5, label=\"Flying Dutchman\")\n",
        "\n",
        "# Add ships to the plot\n",
        "ax.add_patch(black_pearl)\n",
        "ax.add_patch(flying_dutchman)\n",
        "ax.legend()  # Add labels to the plot\n",
        "\n",
        "# Display the plot\n",
        "plt.show()"
      ],
      "metadata": {
        "colab": {
          "base_uri": "https://localhost:8080/",
          "height": 502
        },
        "id": "3Y-1LHC20R6d",
        "outputId": "524e553a-bd94-499b-968c-6ae310c4681d"
      },
      "execution_count": 12,
      "outputs": [
        {
          "output_type": "error",
          "ename": "TypeError",
          "evalue": "RegularPolygon.__init__() takes 3 positional arguments but 4 were given",
          "traceback": [
            "\u001b[0;31m---------------------------------------------------------------------------\u001b[0m",
            "\u001b[0;31mTypeError\u001b[0m                                 Traceback (most recent call last)",
            "\u001b[0;32m<ipython-input-12-87753091637a>\u001b[0m in \u001b[0;36m<cell line: 16>\u001b[0;34m()\u001b[0m\n\u001b[1;32m     14\u001b[0m \u001b[0;34m\u001b[0m\u001b[0m\n\u001b[1;32m     15\u001b[0m \u001b[0;31m# --- Ship Representations ---\u001b[0m\u001b[0;34m\u001b[0m\u001b[0;34m\u001b[0m\u001b[0m\n\u001b[0;32m---> 16\u001b[0;31m \u001b[0mblack_pearl\u001b[0m \u001b[0;34m=\u001b[0m \u001b[0mRegularPolygon\u001b[0m\u001b[0;34m(\u001b[0m\u001b[0mblack_pearl_pos\u001b[0m\u001b[0;34m,\u001b[0m \u001b[0;36m11\u001b[0m\u001b[0;34m,\u001b[0m \u001b[0;36m0.5\u001b[0m\u001b[0;34m,\u001b[0m \u001b[0mfc\u001b[0m\u001b[0;34m=\u001b[0m\u001b[0;34m'gray'\u001b[0m\u001b[0;34m,\u001b[0m \u001b[0mlabel\u001b[0m\u001b[0;34m=\u001b[0m\u001b[0;34m\"Black Pearl\"\u001b[0m\u001b[0;34m)\u001b[0m\u001b[0;34m\u001b[0m\u001b[0;34m\u001b[0m\u001b[0m\n\u001b[0m\u001b[1;32m     17\u001b[0m \u001b[0mflying_dutchman\u001b[0m \u001b[0;34m=\u001b[0m \u001b[0mRegularPolygon\u001b[0m\u001b[0;34m(\u001b[0m\u001b[0mflying_dutchman_pos\u001b[0m\u001b[0;34m,\u001b[0m \u001b[0;36m7\u001b[0m\u001b[0;34m,\u001b[0m \u001b[0;36m1\u001b[0m\u001b[0;34m,\u001b[0m \u001b[0mfc\u001b[0m\u001b[0;34m=\u001b[0m\u001b[0;34m'black'\u001b[0m\u001b[0;34m,\u001b[0m \u001b[0malpha\u001b[0m\u001b[0;34m=\u001b[0m\u001b[0;36m0.5\u001b[0m\u001b[0;34m,\u001b[0m \u001b[0mlabel\u001b[0m\u001b[0;34m=\u001b[0m\u001b[0;34m\"Flying Dutchman\"\u001b[0m\u001b[0;34m)\u001b[0m\u001b[0;34m\u001b[0m\u001b[0;34m\u001b[0m\u001b[0m\n\u001b[1;32m     18\u001b[0m \u001b[0;34m\u001b[0m\u001b[0m\n",
            "\u001b[0;31mTypeError\u001b[0m: RegularPolygon.__init__() takes 3 positional arguments but 4 were given"
          ]
        },
        {
          "output_type": "display_data",
          "data": {
            "text/plain": [
              "<Figure size 640x480 with 1 Axes>"
            ],
            "image/png": "[encoded data removed]"
          },
          "metadata": {}
        }
      ]
    },
    {
      "cell_type": "code",
      "source": [
        "import matplotlib.pyplot as plt\n",
        "import numpy as np\n",
        "import matplotlib.animation as animation\n",
        "from matplotlib.patches import RegularPolygon\n",
        "\n",
        "# --- Ship Definitions ---\n",
        "black_pearl_pos = [0, 0]  # Initial position\n",
        "flying_dutchman_pos = [5, 0]  # Initial position\n",
        "\n",
        "# --- Animation Setup ---\n",
        "fig, ax = plt.subplots()\n",
        "ax.set_xlim(-10, 10)  # Adjust x-axis limits as needed\n",
        "ax.set_ylim(-5, 5)   # Adjust y-axis limits as needed\n",
        "ax.set_aspect('equal')  # Ensure ships appear with correct proportions\n",
        "\n",
        "# --- Animation Function ---\n",
        "def animate(i):\n",
        "  global black_pearl_pos, flying_dutchman_pos\n",
        "\n",
        "  # Remove previous patches (optional for better performance)\n",
        "  for p in ax.patches[:]:\n",
        "      p.remove()\n",
        "\n",
        "  # Black Pearl - Create new cyclogon with rotation\n",
        "  num_vertices_bp = 11  # Number of vertices (sides) for Black Pearl\n",
        "  radius_bp = 0.5\n",
        "  angle_offset_bp = i * 0.01  # Adjust for rotation speed\n",
        "  black_pearl = RegularPolygon(xy=black_pearl_pos, numVertices=num_vertices_bp, radius=radius_bp, orientation=angle_offset_bp, fc='gray', label=\"Black Pearl\")\n",
        "  ax.add_patch(black_pearl)\n",
        "\n",
        "  # Flying Dutchman - Create new cyclogon with rotation\n",
        "  num_vertices_fd = 7  # Number of vertices (sides) for Flying Dutchman\n",
        "  radius_fd = 1\n",
        "  angle_offset_fd = -i * 0.02  # Adjust for rotation speed (opposite direction)\n",
        "  flying_dutchman = RegularPolygon(xy=flying_dutchman_pos, numVertices=num_vertices_fd, radius=radius_fd, orientation=angle_offset_fd, fc='black', alpha=0.5, label=\"Flying Dutchman\")\n",
        "  ax.add_patch(flying_dutchman)\n",
        "\n",
        "  # Update ship positions for next frame\n",
        "  black_pearl_pos[0] += 0.02 + np.random.rand() * 0.05  # Adjust speed and add randomness\n",
        "  black_pearl_pos[1] += np.random.rand() * 0.02 - 0.01  # Add some random y-movement\n",
        "\n",
        "  flying_dutchman_pos[0] -= 0.03 + np.random.rand() * 0.05\n",
        "  flying_dutchman_pos[1] += np.random.rand() * 0.03 - 0.015\n",
        "\n",
        "  return [],  # No return objects are needed as patches are recreated each frame\n",
        "\n",
        "# Create and display the animation\n",
        "anim = animation.FuncAnimation(fig, animate, frames=200, interval=20, blit=True)\n",
        "plt.show()"
      ],
      "metadata": {
        "colab": {
          "base_uri": "https://localhost:8080/",
          "height": 630
        },
        "id": "UaN9i4380R-F",
        "outputId": "65bb567f-900b-4fce-c023-a85faae85d7a"
      },
      "execution_count": 10,
      "outputs": [
        {
          "output_type": "error",
          "ename": "RuntimeError",
          "evalue": "The animation function must return a sequence of Artist objects.",
          "traceback": [
            "\u001b[0;31m---------------------------------------------------------------------------\u001b[0m",
            "\u001b[0;31mRuntimeError\u001b[0m                              Traceback (most recent call last)",
            "\u001b[0;32m<ipython-input-10-ee2a6876b0e1>\u001b[0m in \u001b[0;36m<cell line: 48>\u001b[0;34m()\u001b[0m\n\u001b[1;32m     46\u001b[0m \u001b[0;34m\u001b[0m\u001b[0m\n\u001b[1;32m     47\u001b[0m \u001b[0;31m# Create and display the animation\u001b[0m\u001b[0;34m\u001b[0m\u001b[0;34m\u001b[0m\u001b[0m\n\u001b[0;32m---> 48\u001b[0;31m \u001b[0manim\u001b[0m \u001b[0;34m=\u001b[0m \u001b[0manimation\u001b[0m\u001b[0;34m.\u001b[0m\u001b[0mFuncAnimation\u001b[0m\u001b[0;34m(\u001b[0m\u001b[0mfig\u001b[0m\u001b[0;34m,\u001b[0m \u001b[0manimate\u001b[0m\u001b[0;34m,\u001b[0m \u001b[0mframes\u001b[0m\u001b[0;34m=\u001b[0m\u001b[0;36m200\u001b[0m\u001b[0;34m,\u001b[0m \u001b[0minterval\u001b[0m\u001b[0;34m=\u001b[0m\u001b[0;36m20\u001b[0m\u001b[0;34m,\u001b[0m \u001b[0mblit\u001b[0m\u001b[0;34m=\u001b[0m\u001b[0;32mTrue\u001b[0m\u001b[0;34m)\u001b[0m\u001b[0;34m\u001b[0m\u001b[0;34m\u001b[0m\u001b[0m\n\u001b[0m\u001b[1;32m     49\u001b[0m \u001b[0mplt\u001b[0m\u001b[0;34m.\u001b[0m\u001b[0mshow\u001b[0m\u001b[0;34m(\u001b[0m\u001b[0;34m)\u001b[0m\u001b[0;34m\u001b[0m\u001b[0;34m\u001b[0m\u001b[0m\n",
            "\u001b[0;32m/usr/local/lib/python3.10/dist-packages/matplotlib/animation.py\u001b[0m in \u001b[0;36m__init__\u001b[0;34m(self, fig, func, frames, init_func, fargs, save_count, cache_frame_data, **kwargs)\u001b[0m\n\u001b[1;32m   1714\u001b[0m         \u001b[0mself\u001b[0m\u001b[0;34m.\u001b[0m\u001b[0m_save_seq\u001b[0m \u001b[0;34m=\u001b[0m \u001b[0;34m[\u001b[0m\u001b[0;34m]\u001b[0m\u001b[0;34m\u001b[0m\u001b[0;34m\u001b[0m\u001b[0m\n\u001b[1;32m   1715\u001b[0m \u001b[0;34m\u001b[0m\u001b[0m\n\u001b[0;32m-> 1716\u001b[0;31m         \u001b[0msuper\u001b[0m\u001b[0;34m(\u001b[0m\u001b[0;34m)\u001b[0m\u001b[0;34m.\u001b[0m\u001b[0m__init__\u001b[0m\u001b[0;34m(\u001b[0m\u001b[0mfig\u001b[0m\u001b[0;34m,\u001b[0m \u001b[0;34m**\u001b[0m\u001b[0mkwargs\u001b[0m\u001b[0;34m)\u001b[0m\u001b[0;34m\u001b[0m\u001b[0;34m\u001b[0m\u001b[0m\n\u001b[0m\u001b[1;32m   1717\u001b[0m \u001b[0;34m\u001b[0m\u001b[0m\n\u001b[1;32m   1718\u001b[0m         \u001b[0;31m# Need to reset the saved seq, since right now it will contain data\u001b[0m\u001b[0;34m\u001b[0m\u001b[0;34m\u001b[0m\u001b[0m\n",
            "\u001b[0;32m/usr/local/lib/python3.10/dist-packages/matplotlib/animation.py\u001b[0m in \u001b[0;36m__init__\u001b[0;34m(self, fig, interval, repeat_delay, repeat, event_source, *args, **kwargs)\u001b[0m\n\u001b[1;32m   1438\u001b[0m         \u001b[0;32mif\u001b[0m \u001b[0mevent_source\u001b[0m \u001b[0;32mis\u001b[0m \u001b[0;32mNone\u001b[0m\u001b[0;34m:\u001b[0m\u001b[0;34m\u001b[0m\u001b[0;34m\u001b[0m\u001b[0m\n\u001b[1;32m   1439\u001b[0m             \u001b[0mevent_source\u001b[0m \u001b[0;34m=\u001b[0m \u001b[0mfig\u001b[0m\u001b[0;34m.\u001b[0m\u001b[0mcanvas\u001b[0m\u001b[0;34m.\u001b[0m\u001b[0mnew_timer\u001b[0m\u001b[0;34m(\u001b[0m\u001b[0minterval\u001b[0m\u001b[0;34m=\u001b[0m\u001b[0mself\u001b[0m\u001b[0;34m.\u001b[0m\u001b[0m_interval\u001b[0m\u001b[0;34m)\u001b[0m\u001b[0;34m\u001b[0m\u001b[0;34m\u001b[0m\u001b[0m\n\u001b[0;32m-> 1440\u001b[0;31m         \u001b[0msuper\u001b[0m\u001b[0;34m(\u001b[0m\u001b[0;34m)\u001b[0m\u001b[0;34m.\u001b[0m\u001b[0m__init__\u001b[0m\u001b[0;34m(\u001b[0m\u001b[0mfig\u001b[0m\u001b[0;34m,\u001b[0m \u001b[0mevent_source\u001b[0m\u001b[0;34m=\u001b[0m\u001b[0mevent_source\u001b[0m\u001b[0;34m,\u001b[0m \u001b[0;34m*\u001b[0m\u001b[0margs\u001b[0m\u001b[0;34m,\u001b[0m \u001b[0;34m**\u001b[0m\u001b[0mkwargs\u001b[0m\u001b[0;34m)\u001b[0m\u001b[0;34m\u001b[0m\u001b[0;34m\u001b[0m\u001b[0m\n\u001b[0m\u001b[1;32m   1441\u001b[0m \u001b[0;34m\u001b[0m\u001b[0m\n\u001b[1;32m   1442\u001b[0m     \u001b[0;32mdef\u001b[0m \u001b[0m_step\u001b[0m\u001b[0;34m(\u001b[0m\u001b[0mself\u001b[0m\u001b[0;34m,\u001b[0m \u001b[0;34m*\u001b[0m\u001b[0margs\u001b[0m\u001b[0;34m)\u001b[0m\u001b[0;34m:\u001b[0m\u001b[0;34m\u001b[0m\u001b[0;34m\u001b[0m\u001b[0m\n",
            "\u001b[0;32m/usr/local/lib/python3.10/dist-packages/matplotlib/animation.py\u001b[0m in \u001b[0;36m__init__\u001b[0;34m(self, fig, event_source, blit)\u001b[0m\n\u001b[1;32m    902\u001b[0m                                                       self._stop)\n\u001b[1;32m    903\u001b[0m         \u001b[0;32mif\u001b[0m \u001b[0mself\u001b[0m\u001b[0;34m.\u001b[0m\u001b[0m_blit\u001b[0m\u001b[0;34m:\u001b[0m\u001b[0;34m\u001b[0m\u001b[0;34m\u001b[0m\u001b[0m\n\u001b[0;32m--> 904\u001b[0;31m             \u001b[0mself\u001b[0m\u001b[0;34m.\u001b[0m\u001b[0m_setup_blit\u001b[0m\u001b[0;34m(\u001b[0m\u001b[0;34m)\u001b[0m\u001b[0;34m\u001b[0m\u001b[0;34m\u001b[0m\u001b[0m\n\u001b[0m\u001b[1;32m    905\u001b[0m \u001b[0;34m\u001b[0m\u001b[0m\n\u001b[1;32m    906\u001b[0m     \u001b[0;32mdef\u001b[0m \u001b[0m__del__\u001b[0m\u001b[0;34m(\u001b[0m\u001b[0mself\u001b[0m\u001b[0;34m)\u001b[0m\u001b[0;34m:\u001b[0m\u001b[0;34m\u001b[0m\u001b[0;34m\u001b[0m\u001b[0m\n",
            "\u001b[0;32m/usr/local/lib/python3.10/dist-packages/matplotlib/animation.py\u001b[0m in \u001b[0;36m_setup_blit\u001b[0;34m(self)\u001b[0m\n\u001b[1;32m   1226\u001b[0m         \u001b[0mself\u001b[0m\u001b[0;34m.\u001b[0m\u001b[0m_drawn_artists\u001b[0m \u001b[0;34m=\u001b[0m \u001b[0;34m[\u001b[0m\u001b[0;34m]\u001b[0m\u001b[0;34m\u001b[0m\u001b[0;34m\u001b[0m\u001b[0m\n\u001b[1;32m   1227\u001b[0m         \u001b[0;31m# _post_draw needs to be called first to initialize the renderer\u001b[0m\u001b[0;34m\u001b[0m\u001b[0;34m\u001b[0m\u001b[0m\n\u001b[0;32m-> 1228\u001b[0;31m         \u001b[0mself\u001b[0m\u001b[0;34m.\u001b[0m\u001b[0m_post_draw\u001b[0m\u001b[0;34m(\u001b[0m\u001b[0;32mNone\u001b[0m\u001b[0;34m,\u001b[0m \u001b[0mself\u001b[0m\u001b[0;34m.\u001b[0m\u001b[0m_blit\u001b[0m\u001b[0;34m)\u001b[0m\u001b[0;34m\u001b[0m\u001b[0;34m\u001b[0m\u001b[0m\n\u001b[0m\u001b[1;32m   1229\u001b[0m         \u001b[0;31m# Then we need to clear the Frame for the initial draw\u001b[0m\u001b[0;34m\u001b[0m\u001b[0;34m\u001b[0m\u001b[0m\n\u001b[1;32m   1230\u001b[0m         \u001b[0;31m# This is typically handled in _on_resize because QT and Tk\u001b[0m\u001b[0;34m\u001b[0m\u001b[0;34m\u001b[0m\u001b[0m\n",
            "\u001b[0;32m/usr/local/lib/python3.10/dist-packages/matplotlib/animation.py\u001b[0m in \u001b[0;36m_post_draw\u001b[0;34m(self, framedata, blit)\u001b[0m\n\u001b[1;32m   1181\u001b[0m             \u001b[0mself\u001b[0m\u001b[0;34m.\u001b[0m\u001b[0m_blit_draw\u001b[0m\u001b[0;34m(\u001b[0m\u001b[0mself\u001b[0m\u001b[0;34m.\u001b[0m\u001b[0m_drawn_artists\u001b[0m\u001b[0;34m)\u001b[0m\u001b[0;34m\u001b[0m\u001b[0;34m\u001b[0m\u001b[0m\n\u001b[1;32m   1182\u001b[0m         \u001b[0;32melse\u001b[0m\u001b[0;34m:\u001b[0m\u001b[0;34m\u001b[0m\u001b[0;34m\u001b[0m\u001b[0m\n\u001b[0;32m-> 1183\u001b[0;31m             \u001b[0mself\u001b[0m\u001b[0;34m.\u001b[0m\u001b[0m_fig\u001b[0m\u001b[0;34m.\u001b[0m\u001b[0mcanvas\u001b[0m\u001b[0;34m.\u001b[0m\u001b[0mdraw_idle\u001b[0m\u001b[0;34m(\u001b[0m\u001b[0;34m)\u001b[0m\u001b[0;34m\u001b[0m\u001b[0;34m\u001b[0m\u001b[0m\n\u001b[0m\u001b[1;32m   1184\u001b[0m \u001b[0;34m\u001b[0m\u001b[0m\n\u001b[1;32m   1185\u001b[0m     \u001b[0;31m# The rest of the code in this class is to facilitate easy blitting\u001b[0m\u001b[0;34m\u001b[0m\u001b[0;34m\u001b[0m\u001b[0m\n",
            "\u001b[0;32m/usr/local/lib/python3.10/dist-packages/matplotlib/backend_bases.py\u001b[0m in \u001b[0;36mdraw_idle\u001b[0;34m(self, *args, **kwargs)\u001b[0m\n\u001b[1;32m   1889\u001b[0m         \u001b[0;32mif\u001b[0m \u001b[0;32mnot\u001b[0m \u001b[0mself\u001b[0m\u001b[0;34m.\u001b[0m\u001b[0m_is_idle_drawing\u001b[0m\u001b[0;34m:\u001b[0m\u001b[0;34m\u001b[0m\u001b[0;34m\u001b[0m\u001b[0m\n\u001b[1;32m   1890\u001b[0m             \u001b[0;32mwith\u001b[0m \u001b[0mself\u001b[0m\u001b[0;34m.\u001b[0m\u001b[0m_idle_draw_cntx\u001b[0m\u001b[0;34m(\u001b[0m\u001b[0;34m)\u001b[0m\u001b[0;34m:\u001b[0m\u001b[0;34m\u001b[0m\u001b[0;34m\u001b[0m\u001b[0m\n\u001b[0;32m-> 1891\u001b[0;31m                 \u001b[0mself\u001b[0m\u001b[0;34m.\u001b[0m\u001b[0mdraw\u001b[0m\u001b[0;34m(\u001b[0m\u001b[0;34m*\u001b[0m\u001b[0margs\u001b[0m\u001b[0;34m,\u001b[0m \u001b[0;34m**\u001b[0m\u001b[0mkwargs\u001b[0m\u001b[0;34m)\u001b[0m\u001b[0;34m\u001b[0m\u001b[0;34m\u001b[0m\u001b[0m\n\u001b[0m\u001b[1;32m   1892\u001b[0m \u001b[0;34m\u001b[0m\u001b[0m\n\u001b[1;32m   1893\u001b[0m     \u001b[0;34m@\u001b[0m\u001b[0mproperty\u001b[0m\u001b[0;34m\u001b[0m\u001b[0;34m\u001b[0m\u001b[0m\n",
            "\u001b[0;32m/usr/local/lib/python3.10/dist-packages/matplotlib/backends/backend_agg.py\u001b[0m in \u001b[0;36mdraw\u001b[0;34m(self)\u001b[0m\n\u001b[1;32m    380\u001b[0m         with (self.toolbar._wait_cursor_for_draw_cm() if self.toolbar\n\u001b[1;32m    381\u001b[0m               else nullcontext()):\n\u001b[0;32m--> 382\u001b[0;31m             \u001b[0mself\u001b[0m\u001b[0;34m.\u001b[0m\u001b[0mfigure\u001b[0m\u001b[0;34m.\u001b[0m\u001b[0mdraw\u001b[0m\u001b[0;34m(\u001b[0m\u001b[0mself\u001b[0m\u001b[0;34m.\u001b[0m\u001b[0mrenderer\u001b[0m\u001b[0;34m)\u001b[0m\u001b[0;34m\u001b[0m\u001b[0;34m\u001b[0m\u001b[0m\n\u001b[0m\u001b[1;32m    383\u001b[0m             \u001b[0;31m# A GUI class may be need to update a window using this draw, so\u001b[0m\u001b[0;34m\u001b[0m\u001b[0;34m\u001b[0m\u001b[0m\n\u001b[1;32m    384\u001b[0m             \u001b[0;31m# don't forget to call the superclass.\u001b[0m\u001b[0;34m\u001b[0m\u001b[0;34m\u001b[0m\u001b[0m\n",
            "\u001b[0;32m/usr/local/lib/python3.10/dist-packages/matplotlib/artist.py\u001b[0m in \u001b[0;36mdraw_wrapper\u001b[0;34m(artist, renderer, *args, **kwargs)\u001b[0m\n\u001b[1;32m     92\u001b[0m     \u001b[0;34m@\u001b[0m\u001b[0mwraps\u001b[0m\u001b[0;34m(\u001b[0m\u001b[0mdraw\u001b[0m\u001b[0;34m)\u001b[0m\u001b[0;34m\u001b[0m\u001b[0;34m\u001b[0m\u001b[0m\n\u001b[1;32m     93\u001b[0m     \u001b[0;32mdef\u001b[0m \u001b[0mdraw_wrapper\u001b[0m\u001b[0;34m(\u001b[0m\u001b[0martist\u001b[0m\u001b[0;34m,\u001b[0m \u001b[0mrenderer\u001b[0m\u001b[0;34m,\u001b[0m \u001b[0;34m*\u001b[0m\u001b[0margs\u001b[0m\u001b[0;34m,\u001b[0m \u001b[0;34m**\u001b[0m\u001b[0mkwargs\u001b[0m\u001b[0;34m)\u001b[0m\u001b[0;34m:\u001b[0m\u001b[0;34m\u001b[0m\u001b[0;34m\u001b[0m\u001b[0m\n\u001b[0;32m---> 94\u001b[0;31m         \u001b[0mresult\u001b[0m \u001b[0;34m=\u001b[0m \u001b[0mdraw\u001b[0m\u001b[0;34m(\u001b[0m\u001b[0martist\u001b[0m\u001b[0;34m,\u001b[0m \u001b[0mrenderer\u001b[0m\u001b[0;34m,\u001b[0m \u001b[0;34m*\u001b[0m\u001b[0margs\u001b[0m\u001b[0;34m,\u001b[0m \u001b[0;34m**\u001b[0m\u001b[0mkwargs\u001b[0m\u001b[0;34m)\u001b[0m\u001b[0;34m\u001b[0m\u001b[0;34m\u001b[0m\u001b[0m\n\u001b[0m\u001b[1;32m     95\u001b[0m         \u001b[0;32mif\u001b[0m \u001b[0mrenderer\u001b[0m\u001b[0;34m.\u001b[0m\u001b[0m_rasterizing\u001b[0m\u001b[0;34m:\u001b[0m\u001b[0;34m\u001b[0m\u001b[0;34m\u001b[0m\u001b[0m\n\u001b[1;32m     96\u001b[0m             \u001b[0mrenderer\u001b[0m\u001b[0;34m.\u001b[0m\u001b[0mstop_rasterizing\u001b[0m\u001b[0;34m(\u001b[0m\u001b[0;34m)\u001b[0m\u001b[0;34m\u001b[0m\u001b[0;34m\u001b[0m\u001b[0m\n",
            "\u001b[0;32m/usr/local/lib/python3.10/dist-packages/matplotlib/artist.py\u001b[0m in \u001b[0;36mdraw_wrapper\u001b[0;34m(artist, renderer)\u001b[0m\n\u001b[1;32m     69\u001b[0m                 \u001b[0mrenderer\u001b[0m\u001b[0;34m.\u001b[0m\u001b[0mstart_filter\u001b[0m\u001b[0;34m(\u001b[0m\u001b[0;34m)\u001b[0m\u001b[0;34m\u001b[0m\u001b[0;34m\u001b[0m\u001b[0m\n\u001b[1;32m     70\u001b[0m \u001b[0;34m\u001b[0m\u001b[0m\n\u001b[0;32m---> 71\u001b[0;31m             \u001b[0;32mreturn\u001b[0m \u001b[0mdraw\u001b[0m\u001b[0;34m(\u001b[0m\u001b[0martist\u001b[0m\u001b[0;34m,\u001b[0m \u001b[0mrenderer\u001b[0m\u001b[0;34m)\u001b[0m\u001b[0;34m\u001b[0m\u001b[0;34m\u001b[0m\u001b[0m\n\u001b[0m\u001b[1;32m     72\u001b[0m         \u001b[0;32mfinally\u001b[0m\u001b[0;34m:\u001b[0m\u001b[0;34m\u001b[0m\u001b[0;34m\u001b[0m\u001b[0m\n\u001b[1;32m     73\u001b[0m             \u001b[0;32mif\u001b[0m \u001b[0martist\u001b[0m\u001b[0;34m.\u001b[0m\u001b[0mget_agg_filter\u001b[0m\u001b[0;34m(\u001b[0m\u001b[0;34m)\u001b[0m \u001b[0;32mis\u001b[0m \u001b[0;32mnot\u001b[0m \u001b[0;32mNone\u001b[0m\u001b[0;34m:\u001b[0m\u001b[0;34m\u001b[0m\u001b[0;34m\u001b[0m\u001b[0m\n",
            "\u001b[0;32m/usr/local/lib/python3.10/dist-packages/matplotlib/figure.py\u001b[0m in \u001b[0;36mdraw\u001b[0;34m(self, renderer)\u001b[0m\n\u001b[1;32m   3262\u001b[0m                 \u001b[0mself\u001b[0m\u001b[0;34m.\u001b[0m\u001b[0mstale\u001b[0m \u001b[0;34m=\u001b[0m \u001b[0;32mFalse\u001b[0m\u001b[0;34m\u001b[0m\u001b[0;34m\u001b[0m\u001b[0m\n\u001b[1;32m   3263\u001b[0m \u001b[0;34m\u001b[0m\u001b[0m\n\u001b[0;32m-> 3264\u001b[0;31m             \u001b[0mDrawEvent\u001b[0m\u001b[0;34m(\u001b[0m\u001b[0;34m\"draw_event\"\u001b[0m\u001b[0;34m,\u001b[0m \u001b[0mself\u001b[0m\u001b[0;34m.\u001b[0m\u001b[0mcanvas\u001b[0m\u001b[0;34m,\u001b[0m \u001b[0mrenderer\u001b[0m\u001b[0;34m)\u001b[0m\u001b[0;34m.\u001b[0m\u001b[0m_process\u001b[0m\u001b[0;34m(\u001b[0m\u001b[0;34m)\u001b[0m\u001b[0;34m\u001b[0m\u001b[0;34m\u001b[0m\u001b[0m\n\u001b[0m\u001b[1;32m   3265\u001b[0m \u001b[0;34m\u001b[0m\u001b[0m\n\u001b[1;32m   3266\u001b[0m     \u001b[0;32mdef\u001b[0m \u001b[0mdraw_without_rendering\u001b[0m\u001b[0;34m(\u001b[0m\u001b[0mself\u001b[0m\u001b[0;34m)\u001b[0m\u001b[0;34m:\u001b[0m\u001b[0;34m\u001b[0m\u001b[0;34m\u001b[0m\u001b[0m\n",
            "\u001b[0;32m/usr/local/lib/python3.10/dist-packages/matplotlib/backend_bases.py\u001b[0m in \u001b[0;36m_process\u001b[0;34m(self)\u001b[0m\n\u001b[1;32m   1187\u001b[0m     \u001b[0;32mdef\u001b[0m \u001b[0m_process\u001b[0m\u001b[0;34m(\u001b[0m\u001b[0mself\u001b[0m\u001b[0;34m)\u001b[0m\u001b[0;34m:\u001b[0m\u001b[0;34m\u001b[0m\u001b[0;34m\u001b[0m\u001b[0m\n\u001b[1;32m   1188\u001b[0m         \u001b[0;34m\"\"\"Process this event on ``self.canvas``, then unset ``guiEvent``.\"\"\"\u001b[0m\u001b[0;34m\u001b[0m\u001b[0;34m\u001b[0m\u001b[0m\n\u001b[0;32m-> 1189\u001b[0;31m         \u001b[0mself\u001b[0m\u001b[0;34m.\u001b[0m\u001b[0mcanvas\u001b[0m\u001b[0;34m.\u001b[0m\u001b[0mcallbacks\u001b[0m\u001b[0;34m.\u001b[0m\u001b[0mprocess\u001b[0m\u001b[0;34m(\u001b[0m\u001b[0mself\u001b[0m\u001b[0;34m.\u001b[0m\u001b[0mname\u001b[0m\u001b[0;34m,\u001b[0m \u001b[0mself\u001b[0m\u001b[0;34m)\u001b[0m\u001b[0;34m\u001b[0m\u001b[0;34m\u001b[0m\u001b[0m\n\u001b[0m\u001b[1;32m   1190\u001b[0m         \u001b[0mself\u001b[0m\u001b[0;34m.\u001b[0m\u001b[0mguiEvent\u001b[0m \u001b[0;34m=\u001b[0m \u001b[0;32mNone\u001b[0m\u001b[0;34m\u001b[0m\u001b[0;34m\u001b[0m\u001b[0m\n\u001b[1;32m   1191\u001b[0m \u001b[0;34m\u001b[0m\u001b[0m\n",
            "\u001b[0;32m/usr/local/lib/python3.10/dist-packages/matplotlib/cbook.py\u001b[0m in \u001b[0;36mprocess\u001b[0;34m(self, s, *args, **kwargs)\u001b[0m\n\u001b[1;32m    364\u001b[0m                 \u001b[0;32mexcept\u001b[0m \u001b[0mException\u001b[0m \u001b[0;32mas\u001b[0m \u001b[0mexc\u001b[0m\u001b[0;34m:\u001b[0m\u001b[0;34m\u001b[0m\u001b[0;34m\u001b[0m\u001b[0m\n\u001b[1;32m    365\u001b[0m                     \u001b[0;32mif\u001b[0m \u001b[0mself\u001b[0m\u001b[0;34m.\u001b[0m\u001b[0mexception_handler\u001b[0m \u001b[0;32mis\u001b[0m \u001b[0;32mnot\u001b[0m \u001b[0;32mNone\u001b[0m\u001b[0;34m:\u001b[0m\u001b[0;34m\u001b[0m\u001b[0;34m\u001b[0m\u001b[0m\n\u001b[0;32m--> 366\u001b[0;31m                         \u001b[0mself\u001b[0m\u001b[0;34m.\u001b[0m\u001b[0mexception_handler\u001b[0m\u001b[0;34m(\u001b[0m\u001b[0mexc\u001b[0m\u001b[0;34m)\u001b[0m\u001b[0;34m\u001b[0m\u001b[0;34m\u001b[0m\u001b[0m\n\u001b[0m\u001b[1;32m    367\u001b[0m                     \u001b[0;32melse\u001b[0m\u001b[0;34m:\u001b[0m\u001b[0;34m\u001b[0m\u001b[0;34m\u001b[0m\u001b[0m\n\u001b[1;32m    368\u001b[0m                         \u001b[0;32mraise\u001b[0m\u001b[0;34m\u001b[0m\u001b[0;34m\u001b[0m\u001b[0m\n",
            "\u001b[0;32m/usr/local/lib/python3.10/dist-packages/matplotlib/cbook.py\u001b[0m in \u001b[0;36m_exception_printer\u001b[0;34m(exc)\u001b[0m\n\u001b[1;32m    108\u001b[0m \u001b[0;32mdef\u001b[0m \u001b[0m_exception_printer\u001b[0m\u001b[0;34m(\u001b[0m\u001b[0mexc\u001b[0m\u001b[0;34m)\u001b[0m\u001b[0;34m:\u001b[0m\u001b[0;34m\u001b[0m\u001b[0;34m\u001b[0m\u001b[0m\n\u001b[1;32m    109\u001b[0m     \u001b[0;32mif\u001b[0m \u001b[0m_get_running_interactive_framework\u001b[0m\u001b[0;34m(\u001b[0m\u001b[0;34m)\u001b[0m \u001b[0;32min\u001b[0m \u001b[0;34m[\u001b[0m\u001b[0;34m\"headless\"\u001b[0m\u001b[0;34m,\u001b[0m \u001b[0;32mNone\u001b[0m\u001b[0;34m]\u001b[0m\u001b[0;34m:\u001b[0m\u001b[0;34m\u001b[0m\u001b[0;34m\u001b[0m\u001b[0m\n\u001b[0;32m--> 110\u001b[0;31m         \u001b[0;32mraise\u001b[0m \u001b[0mexc\u001b[0m\u001b[0;34m\u001b[0m\u001b[0;34m\u001b[0m\u001b[0m\n\u001b[0m\u001b[1;32m    111\u001b[0m     \u001b[0;32melse\u001b[0m\u001b[0;34m:\u001b[0m\u001b[0;34m\u001b[0m\u001b[0;34m\u001b[0m\u001b[0m\n\u001b[1;32m    112\u001b[0m         \u001b[0mtraceback\u001b[0m\u001b[0;34m.\u001b[0m\u001b[0mprint_exc\u001b[0m\u001b[0;34m(\u001b[0m\u001b[0;34m)\u001b[0m\u001b[0;34m\u001b[0m\u001b[0;34m\u001b[0m\u001b[0m\n",
            "\u001b[0;32m/usr/local/lib/python3.10/dist-packages/matplotlib/cbook.py\u001b[0m in \u001b[0;36mprocess\u001b[0;34m(self, s, *args, **kwargs)\u001b[0m\n\u001b[1;32m    359\u001b[0m             \u001b[0;32mif\u001b[0m \u001b[0mfunc\u001b[0m \u001b[0;32mis\u001b[0m \u001b[0;32mnot\u001b[0m \u001b[0;32mNone\u001b[0m\u001b[0;34m:\u001b[0m\u001b[0;34m\u001b[0m\u001b[0;34m\u001b[0m\u001b[0m\n\u001b[1;32m    360\u001b[0m                 \u001b[0;32mtry\u001b[0m\u001b[0;34m:\u001b[0m\u001b[0;34m\u001b[0m\u001b[0;34m\u001b[0m\u001b[0m\n\u001b[0;32m--> 361\u001b[0;31m                     \u001b[0mfunc\u001b[0m\u001b[0;34m(\u001b[0m\u001b[0;34m*\u001b[0m\u001b[0margs\u001b[0m\u001b[0;34m,\u001b[0m \u001b[0;34m**\u001b[0m\u001b[0mkwargs\u001b[0m\u001b[0;34m)\u001b[0m\u001b[0;34m\u001b[0m\u001b[0;34m\u001b[0m\u001b[0m\n\u001b[0m\u001b[1;32m    362\u001b[0m                 \u001b[0;31m# this does not capture KeyboardInterrupt, SystemExit,\u001b[0m\u001b[0;34m\u001b[0m\u001b[0;34m\u001b[0m\u001b[0m\n\u001b[1;32m    363\u001b[0m                 \u001b[0;31m# and GeneratorExit\u001b[0m\u001b[0;34m\u001b[0m\u001b[0;34m\u001b[0m\u001b[0m\n",
            "\u001b[0;32m/usr/local/lib/python3.10/dist-packages/matplotlib/animation.py\u001b[0m in \u001b[0;36m_start\u001b[0;34m(self, *args)\u001b[0m\n\u001b[1;32m    926\u001b[0m \u001b[0;34m\u001b[0m\u001b[0m\n\u001b[1;32m    927\u001b[0m         \u001b[0;31m# Now do any initial draw\u001b[0m\u001b[0;34m\u001b[0m\u001b[0;34m\u001b[0m\u001b[0m\n\u001b[0;32m--> 928\u001b[0;31m         \u001b[0mself\u001b[0m\u001b[0;34m.\u001b[0m\u001b[0m_init_draw\u001b[0m\u001b[0;34m(\u001b[0m\u001b[0;34m)\u001b[0m\u001b[0;34m\u001b[0m\u001b[0;34m\u001b[0m\u001b[0m\n\u001b[0m\u001b[1;32m    929\u001b[0m \u001b[0;34m\u001b[0m\u001b[0m\n\u001b[1;32m    930\u001b[0m         \u001b[0;31m# Add our callback for stepping the animation and\u001b[0m\u001b[0;34m\u001b[0m\u001b[0;34m\u001b[0m\u001b[0m\n",
            "\u001b[0;32m/usr/local/lib/python3.10/dist-packages/matplotlib/animation.py\u001b[0m in \u001b[0;36m_init_draw\u001b[0;34m(self)\u001b[0m\n\u001b[1;32m   1768\u001b[0m                 )\n\u001b[1;32m   1769\u001b[0m                 \u001b[0;32mreturn\u001b[0m\u001b[0;34m\u001b[0m\u001b[0;34m\u001b[0m\u001b[0m\n\u001b[0;32m-> 1770\u001b[0;31m             \u001b[0mself\u001b[0m\u001b[0;34m.\u001b[0m\u001b[0m_draw_frame\u001b[0m\u001b[0;34m(\u001b[0m\u001b[0mframe_data\u001b[0m\u001b[0;34m)\u001b[0m\u001b[0;34m\u001b[0m\u001b[0;34m\u001b[0m\u001b[0m\n\u001b[0m\u001b[1;32m   1771\u001b[0m         \u001b[0;32melse\u001b[0m\u001b[0;34m:\u001b[0m\u001b[0;34m\u001b[0m\u001b[0;34m\u001b[0m\u001b[0m\n\u001b[1;32m   1772\u001b[0m             \u001b[0mself\u001b[0m\u001b[0;34m.\u001b[0m\u001b[0m_drawn_artists\u001b[0m \u001b[0;34m=\u001b[0m \u001b[0mself\u001b[0m\u001b[0;34m.\u001b[0m\u001b[0m_init_func\u001b[0m\u001b[0;34m(\u001b[0m\u001b[0;34m)\u001b[0m\u001b[0;34m\u001b[0m\u001b[0;34m\u001b[0m\u001b[0m\n",
            "\u001b[0;32m/usr/local/lib/python3.10/dist-packages/matplotlib/animation.py\u001b[0m in \u001b[0;36m_draw_frame\u001b[0;34m(self, framedata)\u001b[0m\n\u001b[1;32m   1802\u001b[0m             \u001b[0;32mfor\u001b[0m \u001b[0mi\u001b[0m \u001b[0;32min\u001b[0m \u001b[0mself\u001b[0m\u001b[0;34m.\u001b[0m\u001b[0m_drawn_artists\u001b[0m\u001b[0;34m:\u001b[0m\u001b[0;34m\u001b[0m\u001b[0;34m\u001b[0m\u001b[0m\n\u001b[1;32m   1803\u001b[0m                 \u001b[0;32mif\u001b[0m \u001b[0;32mnot\u001b[0m \u001b[0misinstance\u001b[0m\u001b[0;34m(\u001b[0m\u001b[0mi\u001b[0m\u001b[0;34m,\u001b[0m \u001b[0mmpl\u001b[0m\u001b[0;34m.\u001b[0m\u001b[0martist\u001b[0m\u001b[0;34m.\u001b[0m\u001b[0mArtist\u001b[0m\u001b[0;34m)\u001b[0m\u001b[0;34m:\u001b[0m\u001b[0;34m\u001b[0m\u001b[0;34m\u001b[0m\u001b[0m\n\u001b[0;32m-> 1804\u001b[0;31m                     \u001b[0;32mraise\u001b[0m \u001b[0merr\u001b[0m\u001b[0;34m\u001b[0m\u001b[0;34m\u001b[0m\u001b[0m\n\u001b[0m\u001b[1;32m   1805\u001b[0m \u001b[0;34m\u001b[0m\u001b[0m\n\u001b[1;32m   1806\u001b[0m             self._drawn_artists = sorted(self._drawn_artists,\n",
            "\u001b[0;31mRuntimeError\u001b[0m: The animation function must return a sequence of Artist objects."
          ]
        },
        {
          "output_type": "display_data",
          "data": {
            "text/plain": [
              "<Figure size 640x480 with 1 Axes>"
            ],
            "image/png": "[encoded data removed]"
          },
          "metadata": {}
        }
      ]
    },
    {
      "cell_type": "code",
      "source": [
        "import matplotlib.pyplot as plt\n",
        "import numpy as np\n",
        "import matplotlib.animation as animation\n",
        "from matplotlib.patches import RegularPolygon\n",
        "\n",
        "# --- Ship Definitions ---\n",
        "black_pearl_pos = [0, 0]  # Initial position of the Black Pearl\n",
        "flying_dutchman_pos = [5, 0]  # Initial position of the Flying Dutchman\n",
        "\n",
        "# --- Animation Setup ---\n",
        "fig, ax = plt.subplots()\n",
        "ax.set_xlim(-10, 10)  # Adjust x-axis limits as needed\n",
        "ax.set_ylim(-5, 5)   # Adjust y-axis limits as needed\n",
        "ax.set_aspect('equal')  # Ensure ships appear with correct proportions\n",
        "\n",
        "# --- Ship Representations ---\n",
        "#black_pearl = RegularPolygon(black_pearl_pos, 11, 0.5, fc='gray', label=\"Black Pearl\")  # Black Pearl as a flentalgon\n",
        "black_pearl = RegularPolygon(black_pearl_pos, 11, radius=0.5, fc='gray', label=\"Black Pearl\")  # Corrected line\n",
        "flying_dutchman_pos = [5, 0]  # Initial position of the Flying Dutchman\n",
        "flying_dutchman = RegularPolygon(flying_dutchman_pos, 7, radius=1, fc='gray', label=\"Black Pearl\")  # Corrected line#\n",
        "#flying_dutchman = RegularPolygon(flying_dutchman_pos, 7, 1, fc='black', alpha=0.5, label=\"Cyclone\")  # Flying Dutchman as a heptagon\n",
        "\n",
        "# Add ships to the plot\n",
        "ax.add_patch(black_pearl)\n",
        "ax.add_patch(flying_dutchman)\n",
        "ax.legend()  # Add labels to the plot\n",
        "\n",
        "# --- Animation Function ---\n",
        "def animate(i):\n",
        "    global black_pearl_pos, flying_dutchman_pos\n",
        "\n",
        "    # Random adjustments for both ships\n",
        "    black_pearl_pos[0] += 0.02 + np.random.rand() * 0.05  # Adjust speed and add randomness\n",
        "    black_pearl_pos[1] += np.random.rand() * 0.02 - 0.01  # Add some random y-movement\n",
        "\n",
        "    flying_dutchman_pos[0] -= 0.03 + np.random.rand() * 0.05\n",
        "    flying_dutchman_pos[1] += np.random.rand() * 0.03 - 0.015\n",
        "\n",
        "    # Update ship positions\n",
        "    black_pearl.center = black_pearl_pos\n",
        "    flying_dutchman.center = flying_dutchman_pos\n",
        "\n",
        "    return black_pearl, flying_dutchman\n",
        "\n",
        "# Create and display the animation\n",
        "anim = animation.FuncAnimation(fig, animate, frames=200, interval=20, blit=True)\n",
        "plt.show()"
      ],
      "metadata": {
        "colab": {
          "base_uri": "https://localhost:8080/",
          "height": 308
        },
        "id": "E_IW_iLa0SEr",
        "outputId": "63884561-ac13-4be9-9869-7dcb2fbc1e03"
      },
      "execution_count": 9,
      "outputs": [
        {
          "output_type": "display_data",
          "data": {
            "text/plain": [
              "<Figure size 640x480 with 1 Axes>"
            ],
            "image/png": "[encoded data removed]"
          },
          "metadata": {}
        }
      ]
    },
    {
      "cell_type": "code",
      "source": [
        "import matplotlib.pyplot as plt\n",
        "import numpy as np\n",
        "import matplotlib.animation as animation\n",
        "\n",
        "# --- Ship Definitions ---\n",
        "black_pearl_pos = [0, 0]  # Initial position of the Black Pearl (center of cyclogon)\n",
        "flying_dutchman_pos = [5, 0]  # Initial position of the Flying Dutchman\n",
        "\n",
        "# --- Animation Setup ---\n",
        "fig, ax = plt.subplots()\n",
        "ax.set_xlim(-10, 10)  # Adjust x-axis limits as needed\n",
        "ax.set_ylim(-5, 5)   # Adjust y-axis limits as needed\n",
        "ax.set_aspect('equal')  # Ensure ships appear with correct proportions\n",
        "\n",
        "# --- Black Pearl Cyclogon Definition ---\n",
        "class BlackPearlCyclogon(matplotlib.patches.RegularPolygon):\n",
        "  def __init__(self, center, num_vertices=5, radius=1):\n",
        "    super().__init__(xy=center, numVertices=num_vertices, radius=radius)\n",
        "    self.center = center\n",
        "\n",
        "  def update_center(self, new_center):\n",
        "    self._xy = new_center\n",
        "\n",
        "# Create Black Pearl cyclogon object\n",
        "black_pearl = BlackPearlCyclogon(black_pearl_pos, num_vertices=5, radius=0.5)\n",
        "ax.add_artist(black_pearl)\n",
        "flying_dutchman = Rectangle(flying_dutchman_pos, 3, 1.5, fc='black', alpha=0.5, label=\"Flying Dutchman\")  # Simplified representation\n",
        "\n",
        "# --- Animation Function ---\n",
        "def animate(i):\n",
        "  global black_pearl_pos, flying_dutchman_pos\n",
        "\n",
        "  # Random adjustments within a range (-0.1, 0.1) for both ships\n",
        "  x_adjust_bp = np.random.rand() * 2 - .1  # Black Pearl x-adjustment\n",
        "  y_adjust_bp = np.random.rand() * 1 - 0.5  # Black Pearl y-adjustment\n",
        "  x_adjust_fd = np.random.rand() * 2 - 0.1  # Flying Dutchman x-adjustment\n",
        "  y_adjust_fd = np.random.rand() * 1 - 0.05  # Flying Dutchman y-adjustment\n",
        "\n",
        "  # Update positions with adjustments\n",
        "  black_pearl_pos[0] += 0.05 + x_adjust_bp\n",
        "  black_pearl_pos[1] += y_adjust_bp\n",
        "  flying_dutchman_pos[0] -= 0.03 + x_adjust_fd\n",
        "  flying_dutchman_pos[1] += y_adjust_fd\n",
        "\n",
        "  # Wrap around if ships go out of bounds (optional)\n",
        "  if black_pearl_pos[0] < ax.get_xlim()[0]:\n",
        "      black_pearl_pos[0] = ax.get_xlim()[1]\n",
        "  elif black_pearl_pos[0] > ax.get_xlim()[1]:\n",
        "      black_pearl_pos[0] = ax.get_xlim()[0]\n",
        "  if flying_dutchman_pos[0] < ax.get_xlim()[0]:\n",
        "      flying_dutchman_pos[0] = ax.get_xlim()[1]\n",
        "  elif flying_dutchman_pos[0] > ax.get_xlim()[1]:\n",
        "      flying_dutchman_pos[0] = ax.get_xlim()[0]\n",
        "\n",
        "  # Update ship positions\n",
        "  black_pearl.update_center(black_pearl_pos)\n",
        "  flying_dutchman.set_xy(flying_dutchman_pos)\n",
        "\n",
        "  return black_pearl, flying_dutchman\n",
        "\n",
        "# Create and display the animation\n",
        "anim = animation.FuncAnimation(fig, animate, frames=200, interval=20, blit=True)\n",
        "plt.show()"
      ],
      "metadata": {
        "colab": {
          "base_uri": "https://localhost:8080/",
          "height": 502
        },
        "id": "TqRbtZjtzUIh",
        "outputId": "a694eefe-ca11-4a5d-d551-be17ab860229"
      },
      "execution_count": 1,
      "outputs": [
        {
          "output_type": "error",
          "ename": "NameError",
          "evalue": "name 'matplotlib' is not defined",
          "traceback": [
            "\u001b[0;31m---------------------------------------------------------------------------\u001b[0m",
            "\u001b[0;31mNameError\u001b[0m                                 Traceback (most recent call last)",
            "\u001b[0;32m<ipython-input-1-e9f74a031415>\u001b[0m in \u001b[0;36m<cell line: 16>\u001b[0;34m()\u001b[0m\n\u001b[1;32m     14\u001b[0m \u001b[0;34m\u001b[0m\u001b[0m\n\u001b[1;32m     15\u001b[0m \u001b[0;31m# --- Black Pearl Cyclogon Definition ---\u001b[0m\u001b[0;34m\u001b[0m\u001b[0;34m\u001b[0m\u001b[0m\n\u001b[0;32m---> 16\u001b[0;31m \u001b[0;32mclass\u001b[0m \u001b[0mBlackPearlCyclogon\u001b[0m\u001b[0;34m(\u001b[0m\u001b[0mmatplotlib\u001b[0m\u001b[0;34m.\u001b[0m\u001b[0mpatches\u001b[0m\u001b[0;34m.\u001b[0m\u001b[0mRegularPolygon\u001b[0m\u001b[0;34m)\u001b[0m\u001b[0;34m:\u001b[0m\u001b[0;34m\u001b[0m\u001b[0;34m\u001b[0m\u001b[0m\n\u001b[0m\u001b[1;32m     17\u001b[0m   \u001b[0;32mdef\u001b[0m \u001b[0m__init__\u001b[0m\u001b[0;34m(\u001b[0m\u001b[0mself\u001b[0m\u001b[0;34m,\u001b[0m \u001b[0mcenter\u001b[0m\u001b[0;34m,\u001b[0m \u001b[0mnum_vertices\u001b[0m\u001b[0;34m=\u001b[0m\u001b[0;36m5\u001b[0m\u001b[0;34m,\u001b[0m \u001b[0mradius\u001b[0m\u001b[0;34m=\u001b[0m\u001b[0;36m1\u001b[0m\u001b[0;34m)\u001b[0m\u001b[0;34m:\u001b[0m\u001b[0;34m\u001b[0m\u001b[0;34m\u001b[0m\u001b[0m\n\u001b[1;32m     18\u001b[0m     \u001b[0msuper\u001b[0m\u001b[0;34m(\u001b[0m\u001b[0;34m)\u001b[0m\u001b[0;34m.\u001b[0m\u001b[0m__init__\u001b[0m\u001b[0;34m(\u001b[0m\u001b[0mxy\u001b[0m\u001b[0;34m=\u001b[0m\u001b[0mcenter\u001b[0m\u001b[0;34m,\u001b[0m \u001b[0mnumVertices\u001b[0m\u001b[0;34m=\u001b[0m\u001b[0mnum_vertices\u001b[0m\u001b[0;34m,\u001b[0m \u001b[0mradius\u001b[0m\u001b[0;34m=\u001b[0m\u001b[0mradius\u001b[0m\u001b[0;34m)\u001b[0m\u001b[0;34m\u001b[0m\u001b[0;34m\u001b[0m\u001b[0m\n",
            "\u001b[0;31mNameError\u001b[0m: name 'matplotlib' is not defined"
          ]
        },
        {
          "output_type": "display_data",
          "data": {
            "text/plain": [
              "<Figure size 640x480 with 1 Axes>"
            ],
            "image/png": "[encoded data removed]"
          },
          "metadata": {}
        }
      ]
    },
    {
      "cell_type": "code",
      "source": [
        "import matplotlib.pyplot as plt\n",
        "import numpy as np\n",
        "import matplotlib.animation as animation\n",
        "from matplotlib.patches import Rectangle\n",
        "\n",
        "# --- Ship Definitions ---\n",
        "black_pearl_pos = [0, 0]  # Initial position of the Black Pearl\n",
        "flying_dutchman_pos = [5, 0]  # Initial position of the Flying Dutchman\n",
        "\n",
        "# --- Animation Setup ---\n",
        "fig, ax = plt.subplots()\n",
        "ax.set_xlim(-10, 10)  # Adjust x-axis limits as needed\n",
        "ax.set_ylim(-5, 5)   # Adjust y-axis limits as needed\n",
        "ax.set_aspect('equal')  # Ensure ships appear with correct proportions\n",
        "\n",
        "# --- Ship Representations (using Rectangle for simplicity)---\n",
        "black_pearl = Rectangle(black_pearl_pos, 2, 1, fc='gray', label=\"Black Pearl\")  # Simplified ship representation\n",
        "flying_dutchman = Rectangle(flying_dutchman_pos, 3, 1.5, fc='black', alpha=0.5, label=\"Flying Dutchman\")  # Simplified ship representation\n",
        "\n",
        "# Add ships to the plot with labels\n",
        "ax.add_patch(black_pearl)\n",
        "ax.add_patch(flying_dutchman)\n",
        "ax.legend()  # Add labels to the plot\n",
        "\n",
        "# --- Animation Function ---\n",
        "def animate(i):\n",
        "    global black_pearl_pos, flying_dutchman_pos\n",
        "\n",
        "    # Random adjustments within a range (-0.1, 0.1) for both ships\n",
        "    x_adjust_bp = np.random.rand() * 2 - .1  # Black Pearl x-adjustment\n",
        "    y_adjust_bp = np.random.rand() * 1 - 0.5  # Black Pearl y-adjustment\n",
        "    x_adjust_fd = np.random.rand() * 2 - 0.1  # Flying Dutchman x-adjustment\n",
        "    y_adjust_fd = np.random.rand() * 1 - 0.05  # Flying Dutchman y-adjustment\n",
        "\n",
        "    # Update positions with adjustments\n",
        "    black_pearl_pos[0] += 0.05 + x_adjust_bp\n",
        "    black_pearl_pos[1] += y_adjust_bp\n",
        "    flying_dutchman_pos[0] -= 0.03 + x_adjust_fd\n",
        "    flying_dutchman_pos[1] += y_adjust_fd\n",
        "\n",
        "    # Wrap around if ships go out of bounds (optional)\n",
        "    if black_pearl_pos[0] < ax.get_xlim()[0]:\n",
        "        black_pearl_pos[0] = ax.get_xlim()[1]\n",
        "    elif black_pearl_pos[0] > ax.get_xlim()[1]:\n",
        "        black_pearl_pos[0] = ax.get_xlim()[0]\n",
        "    if flying_dutchman_pos[0] < ax.get_xlim()[0]:\n",
        "        flying_dutchman_pos[0] = ax.get_xlim()[1]\n",
        "    elif flying_dutchman_pos[0] > ax.get_xlim()[1]:\n",
        "        flying_dutchman_pos[0] = ax.get_xlim()[0]\n",
        "\n",
        "    # Update ship positions\n",
        "    black_pearl.set_xy(black_pearl_pos)\n",
        "    flying_dutchman.set_xy(flying_dutchman_pos)\n",
        "\n",
        "    return black_pearl, flying_dutchman\n",
        "\n",
        "# Create and display the animation\n",
        "anim = animation.FuncAnimation(fig, animate, frames=200, interval=20, blit=True)\n",
        "plt.show()"
      ],
      "metadata": {
        "colab": {
          "base_uri": "https://localhost:8080/",
          "height": 308
        },
        "id": "2BiRu_SMmDLf",
        "outputId": "1fe2cc6a-45c4-4790-efe9-59b3cad2d4ed"
      },
      "execution_count": 60,
      "outputs": [
        {
          "output_type": "display_data",
          "data": {
            "text/plain": [
              "<Figure size 640x480 with 1 Axes>"
            ],
            "image/png": "[encoded data removed]"
          },
          "metadata": {}
        }
      ]
    },
    {
      "cell_type": "code",
      "source": [
        "import matplotlib.pyplot as plt\n",
        "import numpy as np\n",
        "import matplotlib.animation as animation\n",
        "from matplotlib.patches import Rectangle\n",
        "\n",
        "# --- Ship Definitions ---\n",
        "black_pearl_pos = [0, 0]  # Initial position of the Black Pearl\n",
        "flying_dutchman_pos = [5, 0]  # Initial position of the Flying Dutchman\n",
        "\n",
        "# --- Animation Setup ---\n",
        "fig, ax = plt.subplots()\n",
        "ax.set_xlim(-10, 10)  # Adjust x-axis limits as needed\n",
        "ax.set_ylim(-5, 5)   # Adjust y-axis limits as needed\n",
        "ax.set_aspect('equal')  # Ensure ships appear with correct proportions\n",
        "\n",
        "# --- Ship Representations (using Rectangle for simplicity)---\n",
        "black_pearl = Rectangle(black_pearl_pos, 2, 1, fc='gray', label=\"Black Pearl\")  # Simplified ship representation\n",
        "flying_dutchman = Rectangle(flying_dutchman_pos, 3, 1.5, fc='black', alpha=0.5, label=\"Flying Dutchman\")  # Simplified ship representation\n",
        "\n",
        "# Add ships to the plot with labels\n",
        "ax.add_patch(black_pearl)\n",
        "ax.add_patch(flying_dutchman)\n",
        "ax.legend()  # Add labels to the plot\n",
        "\n",
        "# --- Animation Function ---\n",
        "def animate(i):\n",
        "    global black_pearl_pos, flying_dutchman_pos\n",
        "\n",
        "    # Simple movement (adjust as needed)\n",
        "    black_pearl_pos[0] += 0.05  # Move Black Pearl to the right\n",
        "    flying_dutchman_pos[0] -= 0.03  # Move Flying Dutchman to the left\n",
        "\n",
        "    # Update ship positions\n",
        "    black_pearl.set_xy(black_pearl_pos)\n",
        "    flying_dutchman.set_xy(flying_dutchman_pos)\n",
        "\n",
        "    return black_pearl, flying_dutchman\n",
        "\n",
        "# Create and display the animation\n",
        "anim = animation.FuncAnimation(fig, animate, frames=200, interval=20, blit=True)\n",
        "plt.show()"
      ],
      "metadata": {
        "colab": {
          "base_uri": "https://localhost:8080/",
          "height": 308
        },
        "id": "3i3NHmujmC-i",
        "outputId": "436eebd9-da71-43d2-8e2d-553dfb293833"
      },
      "execution_count": 38,
      "outputs": [
        {
          "output_type": "display_data",
          "data": {
            "text/plain": [
              "<Figure size 640x480 with 1 Axes>"
            ],
            "image/png": "[encoded data removed]"
          },
          "metadata": {}
        }
      ]
    },
    {
      "cell_type": "code",
      "source": [],
      "metadata": {
        "id": "I88YGIuAmDT3"
      },
      "execution_count": null,
      "outputs": []
    },
    {
      "cell_type": "code",
      "source": [],
      "metadata": {
        "id": "yBnZP7wpm2Ip"
      },
      "execution_count": null,
      "outputs": []
    },
    {
      "cell_type": "code",
      "source": [],
      "metadata": {
        "id": "66adr3Kvm2LD"
      },
      "execution_count": null,
      "outputs": []
    },
    {
      "cell_type": "code",
      "source": [],
      "metadata": {
        "id": "_5HlWJt8oS5s"
      },
      "execution_count": null,
      "outputs": []
    },
    {
      "cell_type": "code",
      "source": [
        "import matplotlib.pyplot as plt\n",
        "import numpy as np\n",
        "import matplotlib.animation as animation\n",
        "from matplotlib.patches import Rectangle, Circle\n",
        "\n",
        "# --- Ship Definitions ---\n",
        "black_pearl_pos = [0, 0]  # Initial position of the Black Pearl\n",
        "flying_dutchman_pos = [5, 0]  # Initial position of the Flying Dutchman\n",
        "\n",
        "# --- Animation Setup ---\n",
        "fig, ax = plt.subplots()\n",
        "ax.set_xlim(-10, 10)  # Adjust x-axis limits as needed\n",
        "ax.set_ylim(-5, 5)   # Adjust y-axis limits as needed\n",
        "ax.set_aspect('equal')  # Ensure ships appear with correct proportions\n",
        "\n",
        "# --- Ship Representations ---\n",
        "black_pearl = Rectangle(black_pearl_pos, 2, 1, fc='gray')  # Simplified ship representation\n",
        "flying_dutchman = Rectangle(flying_dutchman_pos, 3, 1.5, fc='black', alpha=0.5)  # Simplified ship representation\n",
        "\n",
        "# Add ships to the plot\n",
        "ax.add_patch(black_pearl)\n",
        "ax.add_patch(flying_dutchman)\n",
        "\n",
        "# --- Animation Function ---\n",
        "#def animate(i):\n",
        "def animate(i):\n",
        "    t = i / 100  # Adjust speed with this factor\n",
        "    x = t * np.cos(t)  # Cyclogon x-coordinate\n",
        "    y = t * np.sin(t)  # Cyclogon y-coordinate\n",
        "    point.set_data([x], [y])\n",
        "    con.xy1 = x, y\n",
        "python\n",
        "import matplotlib.pyplot as plt\n",
        "import numpy as np\n",
        "import matplotlib.animation as animation\n",
        "from matplotlib.patches import Rectangle, Circle\n",
        "\n",
        "# --- Ship Definitions ---\n",
        "black_pearl_pos = [0, 0]  # Initial position of the Black Pearl\n",
        "flying_dutchman_pos = [5, 0]  # Initial position of the Flying Dutchman\n",
        "\n",
        "# --- Animation Setup ---\n",
        "fig, ax = plt.subplots()\n",
        "ax.set_xlim(-10, 10)  # Adjust x-axis limits as needed\n",
        "ax.set_ylim(-5, 5)   # Adjust y-axis limits as needed\n",
        "ax.set_aspect('equal')  # Ensure ships appear with correct proportions\n",
        "\n",
        "# --- Ship Representations ---\n",
        "black_pearl = Rectangle(black_pearl_pos, 2, 1, fc='gray')  # Simplified ship representation\n",
        "flying_dutchman = Rectangle(flying_dutchman_pos, 3, 1.5, fc='black', alpha=0.5)  # Simplified ship representation\n",
        "\n",
        "# Add ships to the plot\n",
        "ax.add_patch(black_pearl)\n",
        "ax.add_patch(flying_dutchman)\n",
        "\n",
        "# --- Animation Function ---\n",
        "def animate(i):\n",
        "    global black_pearl_pos, flying_dutchman_pos\n",
        "\n",
        "    # Simple movement (adjust as needed)\n",
        "    black_pearl_pos[0] += 0.05  # Move Black Pearl to the right\n",
        "    flying_dutchman_pos[0] -= 0.03  # Move Flying Dutchman to the left\n",
        "\n",
        "    # Update ship positions\n",
        "    black_pearl.set_xy(black_pearl_pos)\n",
        "    flying_dutchman.set_xy(flying_dutchman_pos)\n",
        "\n",
        "    return black_pearl, flying_dutchman\n",
        "\n",
        "# Create and display the animation\n",
        "anim = animation.FuncAnimation(fig, animate, frames=200, interval=20, blit=False)\n",
        "python\n",
        "import matplotlib.pyplot as plt\n",
        "import numpy as np\n",
        "import matplotlib.animation as animation\n",
        "from matplotlib.patches import Rectangle, Circle\n",
        "\n",
        "# --- Ship Definitions ---\n",
        "black_pearl_pos = [0, 0]  # Initial position of the Black Pearl\n",
        "flying_dutchman_pos = [5, 0]  # Initial position of the Flying Dutchman\n",
        "\n",
        "# --- Animation Setup ---\n",
        "fig, ax = plt.subplots()\n",
        "ax.set_xlim(-10, 10)  # Adjust x-axis limits as needed\n",
        "ax.set_ylim(-5, 5)   # Adjust y-axis limits as needed\n",
        "ax.set_aspect('equal')  # Ensure ships appear with correct proportions\n",
        "\n",
        "# --- Ship Representations ---\n",
        "black_pearl = Rectangle(black_pearl_pos, 2, 1, fc='gray')  # Simplified ship representation\n",
        "flying_dutchman = Rectangle(flying_dutchman_pos, 3, 1.5, fc='black', alpha=0.5)  # Simplified ship representation\n",
        "\n",
        "# Add ships to the plot\n",
        "ax.add_patch(black_pearl)\n",
        "ax.add_patch(flying_dutchman)\n",
        "\n",
        "# --- Animation Function ---\n",
        "def animate(i):\n",
        "    global black_pearl_pos, flying_dutchman_pos\n",
        "\n",
        "    # Simple movement (adjust as needed)\n",
        "    black_pearl_pos[0] += 0.05  # Move Black Pearl to the right\n",
        "    flying_dutchman_pos[0] -= 0.03  # Move Flying Dutchman to the left\n",
        "\n",
        "    # Update ship positions\n",
        "    black_pearl.set_xy(black_pearl_pos)\n",
        "    flying_dutchman.set_xy(flying_dutchman_pos)\n",
        "\n",
        "    return black_pearl, flying_dutchman\n",
        "\n",
        "```python\n",
        "import matplotlib.pyplot as plt\n",
        "import numpy as np\n",
        "import matplotlib.animation as animation\n",
        "from matplotlib.patches import Rectangle, Circle\n",
        "\n",
        "# --- Ship Definitions ---\n",
        "black_pearl_pos = [0, 0]  # Initial position of the Black Pearl\n",
        "flying_dutchman_pos = [5, 0]  # Initial position of the Flying Dutchman\n",
        "\n",
        "# --- Animation Setup ---\n",
        "fig, ax = plt.subplots()\n",
        "ax.set_xlim(-10, 10)  # Adjust x-axis limits as needed\n",
        "ax.set_ylim(-5, 5)   # Adjust y-axis limits as needed\n",
        "ax.set_aspect('equal')  # Ensure ships appear with correct proportions\n",
        "\n",
        "# --- Ship Representations ---\n",
        "black_pearl = Rectangle(black_pearl_pos, 2, 1, fc='gray')  # Simplified ship representation\n",
        "flying_dutchman = Rectangle(flying_dutchman_pos, 3, 1.5, fc='black', alpha=0.5)  # Simplified ship representation\n",
        "\n",
        "# Add ships to the plot\n",
        "ax.add_patch(black_pearl)\n",
        "ax.add_patch(flying_dutchman)\n",
        "\n",
        "# --- Animation Function ---\n",
        "def animate(i):\n",
        "    global black_pearl_pos, flying_dutchman_pos\n",
        "\n",
        "    # Simple movement (adjust as needed)\n",
        "    black_pearl_pos[0] += 0.05  # Move Black Pearl to the right\n",
        "    flying_dutchman_pos[0] -= 0.03  # Move Flying Dutchman to the left\n",
        "\n",
        "    # Update ship positions\n",
        "    black_pearl.set_xy(black_pearl_pos)\n",
        "    flying_dutchman.set_xy(flying_dutchman_pos)\n",
        "\n",
        "    return black_pearl, flying_dutchman\n",
        "\n",
        "# Create and display the animation\n",
        "anim = animation.FuncAnimation(fig, animate, frames=200, interval=20, blit=False)\n",
        "plt.show()\n",
        "```\n",
        "import matplotlib.animation as animation\n",
        "from matplotlib.patches import Rectangle, Circle\n",
        "\n",
        "# --- Ship Definitions ---\n",
        "black_pearl_pos = [0, 0]  # Initial position of the Black Pearl\n",
        "flying_dutchman_pos = [5, 0]  # Initial position of the Flying Dutchman\n",
        "\n",
        "# --- Animation Setup ---\n",
        "fig, ax = plt.subplots()\n",
        "ax.set_xlim(-10, 10)  # Adjust x-axis limits as needed\n",
        "ax.set_ylim(-5, 5)   # Adjust y-axis limits as needed\n",
        "ax.set_aspect('equal')  # Ensure ships appear with correct proportions\n",
        "\n",
        "# --- Ship Representations ---\n",
        "black_pearl = Rectangle(black_pearl_pos, 2, 1, fc='gray')  # Simplified ship representation\n",
        "flying_dutchman = Rectangle(flying_dutchman_pos, 3, 1.5, fc='black', alpha=0.5)  # Simplified ship representation\n",
        "\n",
        "# Add ships to the plot\n",
        "ax.add_patch(black_pearl)\n",
        "ax.add_patch(flying_dutchman)\n",
        "\n",
        "# --- Animation Function ---\n",
        "def animate(i):\n",
        "    global black_pearl_pos, flying_dutchman_pos\n",
        "\n",
        "    # Simple movement (adjust as needed)\n",
        "    black_pearl_pos[0] += 0.05  # Move Black Pearl to the right\n",
        "    flying_dutchman_pos[0] -= 0.03  # Move Flying Dutchman to the left\n",
        "\n",
        "    # Update ship positions\n",
        "    black_pearl.set_xy(black_pearl_pos)\n",
        "    flying_dutchman.set_xy(flying_dutchman_pos)\n",
        "\n",
        "    return black_pearl, flying_dutchman\n",
        "\n",
        "# Create and display the animation\n",
        "anim = animation.FuncAnimation(fig, animate, frames=200, interval=20, blit=False)\n",
        "plt.show()\n",
        "```\n",
        "\n",
        "global black_pearl_pos, flying_dutchman_pos\n",
        "    # Simple movement (adjust as needed)\n",
        "    black_pearl_pos[0] += 0.05  # Move Black Pearl to the right\n",
        "    flying_dutchman_pos[0] -= 0.03  # Move Flying Dutchman to the left\n",
        "\n",
        "    # Update ship positions\n",
        "    black_pearl.set_xy(black_pearl_pos)\n",
        "    flying_dutchman.set_xy(flying_dutchman_pos)\n",
        "\n",
        "    return black_pearl, flying_dutchman\n",
        "\n",
        "# Create and display the animation\n",
        "anim = animation.FuncAnimation(fig, animate, frames=200, interval=20, blit=False)\n",
        "plt.show()"
      ],
      "metadata": {
        "colab": {
          "base_uri": "https://localhost:8080/",
          "height": 106
        },
        "id": "g019nWdZoS8N",
        "outputId": "a71fbdbd-9871-44ae-8fe1-e8491e39a360"
      },
      "execution_count": 35,
      "outputs": [
        {
          "output_type": "error",
          "ename": "SyntaxError",
          "evalue": "invalid syntax (<ipython-input-35-96ae9cf8bcd9>, line 110)",
          "traceback": [
            "\u001b[0;36m  File \u001b[0;32m\"<ipython-input-35-96ae9cf8bcd9>\"\u001b[0;36m, line \u001b[0;32m110\u001b[0m\n\u001b[0;31m    ```python\u001b[0m\n\u001b[0m    ^\u001b[0m\n\u001b[0;31mSyntaxError\u001b[0m\u001b[0;31m:\u001b[0m invalid syntax\n"
          ]
        }
      ]
    },
    {
      "cell_type": "code",
      "source": [],
      "metadata": {
        "id": "E2DWAxpgoS-u"
      },
      "execution_count": null,
      "outputs": []
    }
  ]
}